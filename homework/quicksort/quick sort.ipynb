{
 "cells": [
  {
   "cell_type": "code",
   "execution_count": null,
   "metadata": {},
   "outputs": [],
   "source": []
  },
  {
   "cell_type": "code",
   "execution_count": 6,
   "metadata": {
    "scrolled": true
   },
   "outputs": [
    {
     "name": "stdout",
     "output_type": "stream",
     "text": [
      "[6, 11, 21, 29, 36, 39, 85, 88, 98]\n"
     ]
    }
   ],
   "source": [
    "numbers = [98, 39, 88, 11, 29, 85, 21, 6, 36] #假設先發打序背號\n",
    "\n",
    "def quick_sort(numbers): #\n",
    "    if len(numbers) <= 1:\n",
    "        return numbers\n",
    "    \n",
    "    left= [] #建3個list將定義的基準點分成左邊、等於、右邊\n",
    "    right = [] \n",
    "    mid = []    \n",
    "    pivot = numbers[0] #假定numers第一個數為基準點\n",
    "\n",
    "    for number in numbers:\n",
    "        if number == pivot:\n",
    "            mid.append(number)\n",
    "        elif number < pivot:\n",
    "            left.append(number)\n",
    "        else:\n",
    "            right.append(number) #依基準值判定，並append到正確的list裡面\n",
    "    return quick_sort(left) + mid + quick_sort(right)\n",
    "print(quick_sort(numbers))\n"
   ]
  },
  {
   "cell_type": "code",
   "execution_count": null,
   "metadata": {},
   "outputs": [],
   "source": []
  },
  {
   "cell_type": "code",
   "execution_count": 36,
   "metadata": {},
   "outputs": [],
   "source": [
    "numbers = [98, 39, 88, 11, 29, 85, 21, 6, 36] #假設先發打序背號\n",
    "\n",
    "def quick_sort(numbers): #\n",
    "    if len(numbers) <= 1:\n",
    "        return numbers\n",
    "    \n",
    "    left= [] #建3個list將定義的基準點分成左邊、等於、右邊\n",
    "    right = [] \n",
    "    mid = []    \n",
    "    pivot = numbers[0] #假定numers第一個數為基準點\n",
    "\n",
    "    for number in numbers:\n",
    "        if number == pivot:\n",
    "            mid.append(number)\n",
    "        elif number < pivot:\n",
    "            left.append(number)\n",
    "        else:\n",
    "            right.append(number) #依基準值判定，並append到正確的list裡面\n",
    "    return quick_sort(left) + mid + quick_sort(right)"
   ]
  },
  {
   "cell_type": "code",
   "execution_count": null,
   "metadata": {},
   "outputs": [],
   "source": []
  }
 ],
 "metadata": {
  "kernelspec": {
   "display_name": "Python 3",
   "language": "python",
   "name": "python3"
  },
  "language_info": {
   "codemirror_mode": {
    "name": "ipython",
    "version": 3
   },
   "file_extension": ".py",
   "mimetype": "text/x-python",
   "name": "python",
   "nbconvert_exporter": "python",
   "pygments_lexer": "ipython3",
   "version": "3.7.1"
  }
 },
 "nbformat": 4,
 "nbformat_minor": 2
}
