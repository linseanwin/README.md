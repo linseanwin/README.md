numbers = [98, 39, 88, 11, 29, 85, 21, 6, 36] #假設先發打序背號

def quick_sort(numbers): #
    if len(numbers) <= 1:
        return numbers
    
    left= [] #建3個list將定義的基準點分成左邊、等於、右邊
    right = [] 
    mid = []    
    pivot = numbers[0] #假定numers第一個數為基準點

    for number in numbers:
        if number == pivot:
            mid.append(number)
        elif number < pivot:
            left.append(number)
        else:
            right.append(number) #依基準值判定，並append到正確的list裡面
    return quick_sort(left) + mid + quick_sort(right)print(quick_sort(numbers))
